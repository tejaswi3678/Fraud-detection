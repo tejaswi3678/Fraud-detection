{
 "cells": [
  {
   "cell_type": "markdown",
   "metadata": {},
   "source": [
    "# Fetching data"
   ]
  },
  {
   "cell_type": "code",
   "execution_count": 1,
   "metadata": {},
   "outputs": [],
   "source": [
    "import pandas as pd\n",
    "import numpy as np"
   ]
  },
  {
   "cell_type": "code",
   "execution_count": 2,
   "metadata": {},
   "outputs": [
    {
     "data": {
      "text/html": [
       "<div>\n",
       "<style scoped>\n",
       "    .dataframe tbody tr th:only-of-type {\n",
       "        vertical-align: middle;\n",
       "    }\n",
       "\n",
       "    .dataframe tbody tr th {\n",
       "        vertical-align: top;\n",
       "    }\n",
       "\n",
       "    .dataframe thead th {\n",
       "        text-align: right;\n",
       "    }\n",
       "</style>\n",
       "<table border=\"1\" class=\"dataframe\">\n",
       "  <thead>\n",
       "    <tr style=\"text-align: right;\">\n",
       "      <th></th>\n",
       "      <th>Time</th>\n",
       "      <th>V1</th>\n",
       "      <th>V2</th>\n",
       "      <th>V3</th>\n",
       "      <th>V4</th>\n",
       "      <th>V5</th>\n",
       "      <th>V6</th>\n",
       "      <th>V7</th>\n",
       "      <th>V8</th>\n",
       "      <th>V9</th>\n",
       "      <th>...</th>\n",
       "      <th>V21</th>\n",
       "      <th>V22</th>\n",
       "      <th>V23</th>\n",
       "      <th>V24</th>\n",
       "      <th>V25</th>\n",
       "      <th>V26</th>\n",
       "      <th>V27</th>\n",
       "      <th>V28</th>\n",
       "      <th>Amount</th>\n",
       "      <th>Class</th>\n",
       "    </tr>\n",
       "  </thead>\n",
       "  <tbody>\n",
       "    <tr>\n",
       "      <th>count</th>\n",
       "      <td>284807.000000</td>\n",
       "      <td>2.848070e+05</td>\n",
       "      <td>2.848070e+05</td>\n",
       "      <td>2.848070e+05</td>\n",
       "      <td>2.848070e+05</td>\n",
       "      <td>2.848070e+05</td>\n",
       "      <td>2.848070e+05</td>\n",
       "      <td>2.848070e+05</td>\n",
       "      <td>2.848070e+05</td>\n",
       "      <td>2.848070e+05</td>\n",
       "      <td>...</td>\n",
       "      <td>2.848070e+05</td>\n",
       "      <td>2.848070e+05</td>\n",
       "      <td>2.848070e+05</td>\n",
       "      <td>2.848070e+05</td>\n",
       "      <td>2.848070e+05</td>\n",
       "      <td>2.848070e+05</td>\n",
       "      <td>2.848070e+05</td>\n",
       "      <td>2.848070e+05</td>\n",
       "      <td>284807.000000</td>\n",
       "      <td>284807.000000</td>\n",
       "    </tr>\n",
       "    <tr>\n",
       "      <th>mean</th>\n",
       "      <td>94813.859575</td>\n",
       "      <td>1.165980e-15</td>\n",
       "      <td>3.416908e-16</td>\n",
       "      <td>-1.373150e-15</td>\n",
       "      <td>2.086869e-15</td>\n",
       "      <td>9.604066e-16</td>\n",
       "      <td>1.490107e-15</td>\n",
       "      <td>-5.556467e-16</td>\n",
       "      <td>1.177556e-16</td>\n",
       "      <td>-2.406455e-15</td>\n",
       "      <td>...</td>\n",
       "      <td>1.656562e-16</td>\n",
       "      <td>-3.444850e-16</td>\n",
       "      <td>2.578648e-16</td>\n",
       "      <td>4.471968e-15</td>\n",
       "      <td>5.340915e-16</td>\n",
       "      <td>1.687098e-15</td>\n",
       "      <td>-3.666453e-16</td>\n",
       "      <td>-1.220404e-16</td>\n",
       "      <td>88.349619</td>\n",
       "      <td>0.001727</td>\n",
       "    </tr>\n",
       "    <tr>\n",
       "      <th>std</th>\n",
       "      <td>47488.145955</td>\n",
       "      <td>1.958696e+00</td>\n",
       "      <td>1.651309e+00</td>\n",
       "      <td>1.516255e+00</td>\n",
       "      <td>1.415869e+00</td>\n",
       "      <td>1.380247e+00</td>\n",
       "      <td>1.332271e+00</td>\n",
       "      <td>1.237094e+00</td>\n",
       "      <td>1.194353e+00</td>\n",
       "      <td>1.098632e+00</td>\n",
       "      <td>...</td>\n",
       "      <td>7.345240e-01</td>\n",
       "      <td>7.257016e-01</td>\n",
       "      <td>6.244603e-01</td>\n",
       "      <td>6.056471e-01</td>\n",
       "      <td>5.212781e-01</td>\n",
       "      <td>4.822270e-01</td>\n",
       "      <td>4.036325e-01</td>\n",
       "      <td>3.300833e-01</td>\n",
       "      <td>250.120109</td>\n",
       "      <td>0.041527</td>\n",
       "    </tr>\n",
       "    <tr>\n",
       "      <th>min</th>\n",
       "      <td>0.000000</td>\n",
       "      <td>-5.640751e+01</td>\n",
       "      <td>-7.271573e+01</td>\n",
       "      <td>-4.832559e+01</td>\n",
       "      <td>-5.683171e+00</td>\n",
       "      <td>-1.137433e+02</td>\n",
       "      <td>-2.616051e+01</td>\n",
       "      <td>-4.355724e+01</td>\n",
       "      <td>-7.321672e+01</td>\n",
       "      <td>-1.343407e+01</td>\n",
       "      <td>...</td>\n",
       "      <td>-3.483038e+01</td>\n",
       "      <td>-1.093314e+01</td>\n",
       "      <td>-4.480774e+01</td>\n",
       "      <td>-2.836627e+00</td>\n",
       "      <td>-1.029540e+01</td>\n",
       "      <td>-2.604551e+00</td>\n",
       "      <td>-2.256568e+01</td>\n",
       "      <td>-1.543008e+01</td>\n",
       "      <td>0.000000</td>\n",
       "      <td>0.000000</td>\n",
       "    </tr>\n",
       "    <tr>\n",
       "      <th>25%</th>\n",
       "      <td>54201.500000</td>\n",
       "      <td>-9.203734e-01</td>\n",
       "      <td>-5.985499e-01</td>\n",
       "      <td>-8.903648e-01</td>\n",
       "      <td>-8.486401e-01</td>\n",
       "      <td>-6.915971e-01</td>\n",
       "      <td>-7.682956e-01</td>\n",
       "      <td>-5.540759e-01</td>\n",
       "      <td>-2.086297e-01</td>\n",
       "      <td>-6.430976e-01</td>\n",
       "      <td>...</td>\n",
       "      <td>-2.283949e-01</td>\n",
       "      <td>-5.423504e-01</td>\n",
       "      <td>-1.618463e-01</td>\n",
       "      <td>-3.545861e-01</td>\n",
       "      <td>-3.171451e-01</td>\n",
       "      <td>-3.269839e-01</td>\n",
       "      <td>-7.083953e-02</td>\n",
       "      <td>-5.295979e-02</td>\n",
       "      <td>5.600000</td>\n",
       "      <td>0.000000</td>\n",
       "    </tr>\n",
       "    <tr>\n",
       "      <th>50%</th>\n",
       "      <td>84692.000000</td>\n",
       "      <td>1.810880e-02</td>\n",
       "      <td>6.548556e-02</td>\n",
       "      <td>1.798463e-01</td>\n",
       "      <td>-1.984653e-02</td>\n",
       "      <td>-5.433583e-02</td>\n",
       "      <td>-2.741871e-01</td>\n",
       "      <td>4.010308e-02</td>\n",
       "      <td>2.235804e-02</td>\n",
       "      <td>-5.142873e-02</td>\n",
       "      <td>...</td>\n",
       "      <td>-2.945017e-02</td>\n",
       "      <td>6.781943e-03</td>\n",
       "      <td>-1.119293e-02</td>\n",
       "      <td>4.097606e-02</td>\n",
       "      <td>1.659350e-02</td>\n",
       "      <td>-5.213911e-02</td>\n",
       "      <td>1.342146e-03</td>\n",
       "      <td>1.124383e-02</td>\n",
       "      <td>22.000000</td>\n",
       "      <td>0.000000</td>\n",
       "    </tr>\n",
       "    <tr>\n",
       "      <th>75%</th>\n",
       "      <td>139320.500000</td>\n",
       "      <td>1.315642e+00</td>\n",
       "      <td>8.037239e-01</td>\n",
       "      <td>1.027196e+00</td>\n",
       "      <td>7.433413e-01</td>\n",
       "      <td>6.119264e-01</td>\n",
       "      <td>3.985649e-01</td>\n",
       "      <td>5.704361e-01</td>\n",
       "      <td>3.273459e-01</td>\n",
       "      <td>5.971390e-01</td>\n",
       "      <td>...</td>\n",
       "      <td>1.863772e-01</td>\n",
       "      <td>5.285536e-01</td>\n",
       "      <td>1.476421e-01</td>\n",
       "      <td>4.395266e-01</td>\n",
       "      <td>3.507156e-01</td>\n",
       "      <td>2.409522e-01</td>\n",
       "      <td>9.104512e-02</td>\n",
       "      <td>7.827995e-02</td>\n",
       "      <td>77.165000</td>\n",
       "      <td>0.000000</td>\n",
       "    </tr>\n",
       "    <tr>\n",
       "      <th>max</th>\n",
       "      <td>172792.000000</td>\n",
       "      <td>2.454930e+00</td>\n",
       "      <td>2.205773e+01</td>\n",
       "      <td>9.382558e+00</td>\n",
       "      <td>1.687534e+01</td>\n",
       "      <td>3.480167e+01</td>\n",
       "      <td>7.330163e+01</td>\n",
       "      <td>1.205895e+02</td>\n",
       "      <td>2.000721e+01</td>\n",
       "      <td>1.559499e+01</td>\n",
       "      <td>...</td>\n",
       "      <td>2.720284e+01</td>\n",
       "      <td>1.050309e+01</td>\n",
       "      <td>2.252841e+01</td>\n",
       "      <td>4.584549e+00</td>\n",
       "      <td>7.519589e+00</td>\n",
       "      <td>3.517346e+00</td>\n",
       "      <td>3.161220e+01</td>\n",
       "      <td>3.384781e+01</td>\n",
       "      <td>25691.160000</td>\n",
       "      <td>1.000000</td>\n",
       "    </tr>\n",
       "  </tbody>\n",
       "</table>\n",
       "<p>8 rows × 31 columns</p>\n",
       "</div>"
      ],
      "text/plain": [
       "                Time            V1            V2            V3            V4  \\\n",
       "count  284807.000000  2.848070e+05  2.848070e+05  2.848070e+05  2.848070e+05   \n",
       "mean    94813.859575  1.165980e-15  3.416908e-16 -1.373150e-15  2.086869e-15   \n",
       "std     47488.145955  1.958696e+00  1.651309e+00  1.516255e+00  1.415869e+00   \n",
       "min         0.000000 -5.640751e+01 -7.271573e+01 -4.832559e+01 -5.683171e+00   \n",
       "25%     54201.500000 -9.203734e-01 -5.985499e-01 -8.903648e-01 -8.486401e-01   \n",
       "50%     84692.000000  1.810880e-02  6.548556e-02  1.798463e-01 -1.984653e-02   \n",
       "75%    139320.500000  1.315642e+00  8.037239e-01  1.027196e+00  7.433413e-01   \n",
       "max    172792.000000  2.454930e+00  2.205773e+01  9.382558e+00  1.687534e+01   \n",
       "\n",
       "                 V5            V6            V7            V8            V9  \\\n",
       "count  2.848070e+05  2.848070e+05  2.848070e+05  2.848070e+05  2.848070e+05   \n",
       "mean   9.604066e-16  1.490107e-15 -5.556467e-16  1.177556e-16 -2.406455e-15   \n",
       "std    1.380247e+00  1.332271e+00  1.237094e+00  1.194353e+00  1.098632e+00   \n",
       "min   -1.137433e+02 -2.616051e+01 -4.355724e+01 -7.321672e+01 -1.343407e+01   \n",
       "25%   -6.915971e-01 -7.682956e-01 -5.540759e-01 -2.086297e-01 -6.430976e-01   \n",
       "50%   -5.433583e-02 -2.741871e-01  4.010308e-02  2.235804e-02 -5.142873e-02   \n",
       "75%    6.119264e-01  3.985649e-01  5.704361e-01  3.273459e-01  5.971390e-01   \n",
       "max    3.480167e+01  7.330163e+01  1.205895e+02  2.000721e+01  1.559499e+01   \n",
       "\n",
       "       ...           V21           V22           V23           V24  \\\n",
       "count  ...  2.848070e+05  2.848070e+05  2.848070e+05  2.848070e+05   \n",
       "mean   ...  1.656562e-16 -3.444850e-16  2.578648e-16  4.471968e-15   \n",
       "std    ...  7.345240e-01  7.257016e-01  6.244603e-01  6.056471e-01   \n",
       "min    ... -3.483038e+01 -1.093314e+01 -4.480774e+01 -2.836627e+00   \n",
       "25%    ... -2.283949e-01 -5.423504e-01 -1.618463e-01 -3.545861e-01   \n",
       "50%    ... -2.945017e-02  6.781943e-03 -1.119293e-02  4.097606e-02   \n",
       "75%    ...  1.863772e-01  5.285536e-01  1.476421e-01  4.395266e-01   \n",
       "max    ...  2.720284e+01  1.050309e+01  2.252841e+01  4.584549e+00   \n",
       "\n",
       "                V25           V26           V27           V28         Amount  \\\n",
       "count  2.848070e+05  2.848070e+05  2.848070e+05  2.848070e+05  284807.000000   \n",
       "mean   5.340915e-16  1.687098e-15 -3.666453e-16 -1.220404e-16      88.349619   \n",
       "std    5.212781e-01  4.822270e-01  4.036325e-01  3.300833e-01     250.120109   \n",
       "min   -1.029540e+01 -2.604551e+00 -2.256568e+01 -1.543008e+01       0.000000   \n",
       "25%   -3.171451e-01 -3.269839e-01 -7.083953e-02 -5.295979e-02       5.600000   \n",
       "50%    1.659350e-02 -5.213911e-02  1.342146e-03  1.124383e-02      22.000000   \n",
       "75%    3.507156e-01  2.409522e-01  9.104512e-02  7.827995e-02      77.165000   \n",
       "max    7.519589e+00  3.517346e+00  3.161220e+01  3.384781e+01   25691.160000   \n",
       "\n",
       "               Class  \n",
       "count  284807.000000  \n",
       "mean        0.001727  \n",
       "std         0.041527  \n",
       "min         0.000000  \n",
       "25%         0.000000  \n",
       "50%         0.000000  \n",
       "75%         0.000000  \n",
       "max         1.000000  \n",
       "\n",
       "[8 rows x 31 columns]"
      ]
     },
     "execution_count": 2,
     "metadata": {},
     "output_type": "execute_result"
    }
   ],
   "source": [
    "df = pd.read_csv(r'C:\\Users\\tnall\\analytics\\creditcard.csv')\n",
    "df.describe()"
   ]
  },
  {
   "cell_type": "markdown",
   "metadata": {},
   "source": [
    "# Data Analysis"
   ]
  },
  {
   "cell_type": "code",
   "execution_count": 3,
   "metadata": {},
   "outputs": [
    {
     "data": {
      "text/html": [
       "        <script type=\"text/javascript\">\n",
       "        window.PlotlyConfig = {MathJaxConfig: 'local'};\n",
       "        if (window.MathJax) {MathJax.Hub.Config({SVG: {font: \"STIX-Web\"}});}\n",
       "        if (typeof require !== 'undefined') {\n",
       "        require.undef(\"plotly\");\n",
       "        requirejs.config({\n",
       "            paths: {\n",
       "                'plotly': ['https://cdn.plot.ly/plotly-latest.min']\n",
       "            }\n",
       "        });\n",
       "        require(['plotly'], function(Plotly) {\n",
       "            window._Plotly = Plotly;\n",
       "        });\n",
       "        }\n",
       "        </script>\n",
       "        "
      ]
     },
     "metadata": {},
     "output_type": "display_data"
    }
   ],
   "source": [
    "import matplotlib\n",
    "import matplotlib.pyplot as plt\n",
    "%matplotlib inline\n",
    "import plotly.graph_objs as go\n",
    "import plotly\n",
    "import seaborn as sns\n",
    "import plotly.express as px\n",
    "import plotly.figure_factory as ff\n",
    "import matplotlib.gridspec as gridspec\n",
    "from collections import Counter\n",
    "import plotly.offline as py\n",
    "py.init_notebook_mode(connected=True)"
   ]
  },
  {
   "cell_type": "markdown",
   "metadata": {},
   "source": [
    "Checking for number of Fraud cases"
   ]
  },
  {
   "cell_type": "code",
   "execution_count": 4,
   "metadata": {},
   "outputs": [
    {
     "name": "stdout",
     "output_type": "stream",
     "text": [
      "There are 492 fraud\n",
      "The ratio of total fraud transaction is 0.001727485630620034\n"
     ]
    }
   ],
   "source": [
    "fraud = len(df[df.Class == 1])\n",
    "no_fraud = len(df[df.Class == 0])\n",
    "total_trans = len(df['Class'])\n",
    "fraud_ratio = fraud/total_trans\n",
    "print('There are '+ str(fraud) + ' fraud')\n",
    "print('The ratio of total fraud transaction is '+ str(fraud_ratio))"
   ]
  },
  {
   "cell_type": "markdown",
   "metadata": {},
   "source": [
    "Data imbalance check as per target fraud class"
   ]
  },
  {
   "cell_type": "code",
   "execution_count": 5,
   "metadata": {},
   "outputs": [
    {
     "data": {
      "text/plain": [
       "Text(0, 0.5, 'Number of transctions')"
      ]
     },
     "execution_count": 5,
     "metadata": {},
     "output_type": "execute_result"
    },
    {
     "data": {
      "image/png": "[encoded data removed]",
      "text/plain": [
       "<Figure size 432x288 with 1 Axes>"
      ]
     },
     "metadata": {
      "needs_background": "light"
     },
     "output_type": "display_data"
    }
   ],
   "source": [
    "plt.hist(df['Class'])\n",
    "plt.title(\"Fraud class histogram\")\n",
    "plt.xlabel(\"Class\")\n",
    "plt.ylabel(\"Number of transctions\")"
   ]
  },
  {
   "cell_type": "markdown",
   "metadata": {},
   "source": [
    "Fraud distribution in time and feature engineering"
   ]
  },
  {
   "cell_type": "code",
   "execution_count": 6,
   "metadata": {},
   "outputs": [
    {
     "data": {
      "text/html": [
       "<div>\n",
       "<style scoped>\n",
       "    .dataframe tbody tr th:only-of-type {\n",
       "        vertical-align: middle;\n",
       "    }\n",
       "\n",
       "    .dataframe tbody tr th {\n",
       "        vertical-align: top;\n",
       "    }\n",
       "\n",
       "    .dataframe thead th {\n",
       "        text-align: right;\n",
       "    }\n",
       "</style>\n",
       "<table border=\"1\" class=\"dataframe\">\n",
       "  <thead>\n",
       "    <tr style=\"text-align: right;\">\n",
       "      <th></th>\n",
       "      <th>Time</th>\n",
       "      <th>V1</th>\n",
       "      <th>V2</th>\n",
       "      <th>V3</th>\n",
       "      <th>V4</th>\n",
       "      <th>V5</th>\n",
       "      <th>V6</th>\n",
       "      <th>V7</th>\n",
       "      <th>V8</th>\n",
       "      <th>V9</th>\n",
       "      <th>...</th>\n",
       "      <th>V22</th>\n",
       "      <th>V23</th>\n",
       "      <th>V24</th>\n",
       "      <th>V25</th>\n",
       "      <th>V26</th>\n",
       "      <th>V27</th>\n",
       "      <th>V28</th>\n",
       "      <th>Amount</th>\n",
       "      <th>Class</th>\n",
       "      <th>Time_in_hours</th>\n",
       "    </tr>\n",
       "  </thead>\n",
       "  <tbody>\n",
       "    <tr>\n",
       "      <th>0</th>\n",
       "      <td>0.0</td>\n",
       "      <td>-1.359807</td>\n",
       "      <td>-0.072781</td>\n",
       "      <td>2.536347</td>\n",
       "      <td>1.378155</td>\n",
       "      <td>-0.338321</td>\n",
       "      <td>0.462388</td>\n",
       "      <td>0.239599</td>\n",
       "      <td>0.098698</td>\n",
       "      <td>0.363787</td>\n",
       "      <td>...</td>\n",
       "      <td>0.277838</td>\n",
       "      <td>-0.110474</td>\n",
       "      <td>0.066928</td>\n",
       "      <td>0.128539</td>\n",
       "      <td>-0.189115</td>\n",
       "      <td>0.133558</td>\n",
       "      <td>-0.021053</td>\n",
       "      <td>149.62</td>\n",
       "      <td>0</td>\n",
       "      <td>0</td>\n",
       "    </tr>\n",
       "    <tr>\n",
       "      <th>1</th>\n",
       "      <td>0.0</td>\n",
       "      <td>1.191857</td>\n",
       "      <td>0.266151</td>\n",
       "      <td>0.166480</td>\n",
       "      <td>0.448154</td>\n",
       "      <td>0.060018</td>\n",
       "      <td>-0.082361</td>\n",
       "      <td>-0.078803</td>\n",
       "      <td>0.085102</td>\n",
       "      <td>-0.255425</td>\n",
       "      <td>...</td>\n",
       "      <td>-0.638672</td>\n",
       "      <td>0.101288</td>\n",
       "      <td>-0.339846</td>\n",
       "      <td>0.167170</td>\n",
       "      <td>0.125895</td>\n",
       "      <td>-0.008983</td>\n",
       "      <td>0.014724</td>\n",
       "      <td>2.69</td>\n",
       "      <td>0</td>\n",
       "      <td>0</td>\n",
       "    </tr>\n",
       "    <tr>\n",
       "      <th>2</th>\n",
       "      <td>1.0</td>\n",
       "      <td>-1.358354</td>\n",
       "      <td>-1.340163</td>\n",
       "      <td>1.773209</td>\n",
       "      <td>0.379780</td>\n",
       "      <td>-0.503198</td>\n",
       "      <td>1.800499</td>\n",
       "      <td>0.791461</td>\n",
       "      <td>0.247676</td>\n",
       "      <td>-1.514654</td>\n",
       "      <td>...</td>\n",
       "      <td>0.771679</td>\n",
       "      <td>0.909412</td>\n",
       "      <td>-0.689281</td>\n",
       "      <td>-0.327642</td>\n",
       "      <td>-0.139097</td>\n",
       "      <td>-0.055353</td>\n",
       "      <td>-0.059752</td>\n",
       "      <td>378.66</td>\n",
       "      <td>0</td>\n",
       "      <td>0</td>\n",
       "    </tr>\n",
       "    <tr>\n",
       "      <th>3</th>\n",
       "      <td>1.0</td>\n",
       "      <td>-0.966272</td>\n",
       "      <td>-0.185226</td>\n",
       "      <td>1.792993</td>\n",
       "      <td>-0.863291</td>\n",
       "      <td>-0.010309</td>\n",
       "      <td>1.247203</td>\n",
       "      <td>0.237609</td>\n",
       "      <td>0.377436</td>\n",
       "      <td>-1.387024</td>\n",
       "      <td>...</td>\n",
       "      <td>0.005274</td>\n",
       "      <td>-0.190321</td>\n",
       "      <td>-1.175575</td>\n",
       "      <td>0.647376</td>\n",
       "      <td>-0.221929</td>\n",
       "      <td>0.062723</td>\n",
       "      <td>0.061458</td>\n",
       "      <td>123.50</td>\n",
       "      <td>0</td>\n",
       "      <td>0</td>\n",
       "    </tr>\n",
       "    <tr>\n",
       "      <th>4</th>\n",
       "      <td>2.0</td>\n",
       "      <td>-1.158233</td>\n",
       "      <td>0.877737</td>\n",
       "      <td>1.548718</td>\n",
       "      <td>0.403034</td>\n",
       "      <td>-0.407193</td>\n",
       "      <td>0.095921</td>\n",
       "      <td>0.592941</td>\n",
       "      <td>-0.270533</td>\n",
       "      <td>0.817739</td>\n",
       "      <td>...</td>\n",
       "      <td>0.798278</td>\n",
       "      <td>-0.137458</td>\n",
       "      <td>0.141267</td>\n",
       "      <td>-0.206010</td>\n",
       "      <td>0.502292</td>\n",
       "      <td>0.219422</td>\n",
       "      <td>0.215153</td>\n",
       "      <td>69.99</td>\n",
       "      <td>0</td>\n",
       "      <td>0</td>\n",
       "    </tr>\n",
       "  </tbody>\n",
       "</table>\n",
       "<p>5 rows × 32 columns</p>\n",
       "</div>"
      ],
      "text/plain": [
       "   Time        V1        V2        V3        V4        V5        V6        V7  \\\n",
       "0   0.0 -1.359807 -0.072781  2.536347  1.378155 -0.338321  0.462388  0.239599   \n",
       "1   0.0  1.191857  0.266151  0.166480  0.448154  0.060018 -0.082361 -0.078803   \n",
       "2   1.0 -1.358354 -1.340163  1.773209  0.379780 -0.503198  1.800499  0.791461   \n",
       "3   1.0 -0.966272 -0.185226  1.792993 -0.863291 -0.010309  1.247203  0.237609   \n",
       "4   2.0 -1.158233  0.877737  1.548718  0.403034 -0.407193  0.095921  0.592941   \n",
       "\n",
       "         V8        V9  ...       V22       V23       V24       V25       V26  \\\n",
       "0  0.098698  0.363787  ...  0.277838 -0.110474  0.066928  0.128539 -0.189115   \n",
       "1  0.085102 -0.255425  ... -0.638672  0.101288 -0.339846  0.167170  0.125895   \n",
       "2  0.247676 -1.514654  ...  0.771679  0.909412 -0.689281 -0.327642 -0.139097   \n",
       "3  0.377436 -1.387024  ...  0.005274 -0.190321 -1.175575  0.647376 -0.221929   \n",
       "4 -0.270533  0.817739  ...  0.798278 -0.137458  0.141267 -0.206010  0.502292   \n",
       "\n",
       "        V27       V28  Amount  Class  Time_in_hours  \n",
       "0  0.133558 -0.021053  149.62      0              0  \n",
       "1 -0.008983  0.014724    2.69      0              0  \n",
       "2 -0.055353 -0.059752  378.66      0              0  \n",
       "3  0.062723  0.061458  123.50      0              0  \n",
       "4  0.219422  0.215153   69.99      0              0  \n",
       "\n",
       "[5 rows x 32 columns]"
      ]
     },
     "execution_count": 6,
     "metadata": {},
     "output_type": "execute_result"
    }
   ],
   "source": [
    "# converting seconds to time delta to extract hours and mins\n",
    "time_conv = pd.to_timedelta(df['Time'], unit='s')\n",
    "df['Time_in_hours'] = (time_conv.dt.components.hours).astype(int)\n",
    "df.head()"
   ]
  },
  {
   "cell_type": "markdown",
   "metadata": {},
   "source": [
    "Trasactions distribution in hours"
   ]
  },
  {
   "cell_type": "code",
   "execution_count": 7,
   "metadata": {},
   "outputs": [
    {
     "data": {
      "image/png": "[encoded data removed]",
      "text/plain": [
       "<Figure size 432x288 with 1 Axes>"
      ]
     },
     "metadata": {
      "needs_background": "light"
     },
     "output_type": "display_data"
    }
   ],
   "source": [
    "transactions = df['Time_in_hours']\n",
    "plt.hist(transactions, bins = 50)\n",
    "plt.xlim([min(transactions), max(transactions)])\n",
    "plt.xlabel('Time_in_hours', fontsize=15)\n",
    "plt.ylabel(\"Number of Transactions\",  fontsize=13)\n",
    "\n",
    "plt.show()"
   ]
  },
  {
   "cell_type": "markdown",
   "metadata": {},
   "source": [
    "Amont of Fraud transactions distribution in hours"
   ]
  },
  {
   "cell_type": "code",
   "execution_count": 8,
   "metadata": {},
   "outputs": [
    {
     "data": {
      "image/png": "[encoded data removed]",
      "text/plain": [
       "<Figure size 432x288 with 1 Axes>"
      ]
     },
     "metadata": {
      "needs_background": "light"
     },
     "output_type": "display_data"
    }
   ],
   "source": [
    "fraud_transactions = df.Time_in_hours[df.Class == 1]\n",
    "plt.hist(fraud_transactions, bins = 50)\n",
    "plt.xlim([min(fraud_transactions), max(fraud_transactions)])\n",
    "plt.xlabel('Time_in_hours', fontsize=15)\n",
    "plt.ylabel(\"Number of Transactions\",  fontsize=13)\n",
    "\n",
    "plt.show()"
   ]
  },
  {
   "cell_type": "markdown",
   "metadata": {},
   "source": [
    "From the graph it is clear that the fraud rate was high at 2 & 11 am"
   ]
  },
  {
   "cell_type": "markdown",
   "metadata": {},
   "source": [
    "Fraud ratio at each hour"
   ]
  },
  {
   "cell_type": "code",
   "execution_count": 9,
   "metadata": {},
   "outputs": [],
   "source": [
    "fraudratio = df[['Time_in_hours','Class']].groupby('Time_in_hours').sum()/df[['Time_in_hours','Class']].groupby('Time_in_hours').count()\n",
    "fraudratio.rename(columns={'Class':'fraudratio'}, inplace = True)\n",
    "df = pd.merge(df,fraudratio,on='Time_in_hours')"
   ]
  },
  {
   "cell_type": "code",
   "execution_count": 10,
   "metadata": {},
   "outputs": [
    {
     "data": {
      "image/png": "[encoded data removed]",
      "text/plain": [
       "<Figure size 648x360 with 1 Axes>"
      ]
     },
     "metadata": {
      "needs_background": "light"
     },
     "output_type": "display_data"
    }
   ],
   "source": [
    "ax = sns.lmplot(x=\"Time_in_hours\", y=\"fraudratio\", aspect=1.8,\n",
    "                data=df)\n",
    "plt.title(\"fraudratio per hour\", fontsize=16)\n",
    "\n",
    "plt.show()"
   ]
  },
  {
   "cell_type": "markdown",
   "metadata": {},
   "source": [
    "Fraud distribution in Amount"
   ]
  },
  {
   "cell_type": "code",
   "execution_count": 11,
   "metadata": {},
   "outputs": [],
   "source": [
    "df['fraud_per_hour'] = df.Time_in_hours[df.Class == 1]"
   ]
  },
  {
   "cell_type": "code",
   "execution_count": 12,
   "metadata": {},
   "outputs": [
    {
     "data": {
      "image/png": "[encoded data removed]",
      "text/plain": [
       "<Figure size 648x360 with 1 Axes>"
      ]
     },
     "metadata": {
      "needs_background": "light"
     },
     "output_type": "display_data"
    }
   ],
   "source": [
    "ax = sns.lmplot(y=\"Amount\", x=\"fraud_per_hour\", aspect=1.8,\n",
    "                data=df)\n",
    "plt.title(\"Amount by Hour of Fraud Transactions\", fontsize=16)\n",
    "\n",
    "plt.show()"
   ]
  },
  {
   "cell_type": "markdown",
   "metadata": {},
   "source": [
    "# Skewness check and data normalization with sqrt and log method"
   ]
  },
  {
   "cell_type": "code",
   "execution_count": 13,
   "metadata": {},
   "outputs": [
    {
     "data": {
      "text/plain": [
       "Time              -0.035568\n",
       "V1                -3.280667\n",
       "V2                -4.624866\n",
       "V3                -2.240155\n",
       "V4                 0.676292\n",
       "V5                -2.425901\n",
       "V6                 1.826581\n",
       "V7                 2.553907\n",
       "V8                -8.521944\n",
       "V9                 0.554680\n",
       "V10                1.187141\n",
       "V11                0.356506\n",
       "V12               -2.278401\n",
       "V13                0.065233\n",
       "V14               -1.995176\n",
       "V15               -0.308423\n",
       "V16               -1.100966\n",
       "V17               -3.844914\n",
       "V18               -0.259880\n",
       "V19                0.109192\n",
       "V20               -2.037155\n",
       "V21                3.592991\n",
       "V22               -0.213258\n",
       "V23               -5.875140\n",
       "V24               -0.552499\n",
       "V25               -0.415793\n",
       "V26                0.576693\n",
       "V27               -1.170209\n",
       "V28               11.192091\n",
       "Amount            16.977724\n",
       "Time_in_hours     -0.490470\n",
       "fraudratio         5.830461\n",
       "fraud_per_hour    -0.096773\n",
       "dtype: float64"
      ]
     },
     "execution_count": 13,
     "metadata": {},
     "output_type": "execute_result"
    }
   ],
   "source": [
    "df_skewtemp = df.drop(['Class'], axis=1)\n",
    "df_skewtemp.skew()"
   ]
  },
  {
   "cell_type": "code",
   "execution_count": 14,
   "metadata": {},
   "outputs": [
    {
     "name": "stderr",
     "output_type": "stream",
     "text": [
      "c:\\users\\tnall\\analytictask\\venv\\lib\\site-packages\\ipykernel_launcher.py:1: RuntimeWarning:\n",
      "\n",
      "invalid value encountered in sqrt\n",
      "\n"
     ]
    },
    {
     "data": {
      "text/plain": [
       "Time             -0.597272\n",
       "V1               -1.395362\n",
       "V2                0.944320\n",
       "V3               -0.092556\n",
       "V4                0.800446\n",
       "V5                1.018470\n",
       "V6                0.722527\n",
       "V7                1.660364\n",
       "V8                1.475852\n",
       "V9                0.616111\n",
       "V10               1.274419\n",
       "V11               0.106757\n",
       "V12               0.019402\n",
       "V13               0.133870\n",
       "V14               0.587121\n",
       "V15              -0.037325\n",
       "V16               0.287640\n",
       "V17               0.718106\n",
       "V18               0.288601\n",
       "V19               0.531125\n",
       "V20               2.076510\n",
       "V21               3.485339\n",
       "V22              -0.019599\n",
       "V23               2.752428\n",
       "V24              -0.205358\n",
       "V25               0.260450\n",
       "V26               0.425818\n",
       "V27               1.950617\n",
       "V28               3.526752\n",
       "Amount            2.822263\n",
       "Time_in_hours    -1.610538\n",
       "fraudratio        3.358459\n",
       "fraud_per_hour   -0.630595\n",
       "dtype: float64"
      ]
     },
     "execution_count": 14,
     "metadata": {},
     "output_type": "execute_result"
    }
   ],
   "source": [
    "df_skewed_sqrt = np.sqrt(df_skewtemp)\n",
    "df_skewed_sqrt.skew()"
   ]
  },
  {
   "cell_type": "code",
   "execution_count": 15,
   "metadata": {},
   "outputs": [
    {
     "data": {
      "text/html": [
       "<div>\n",
       "<style scoped>\n",
       "    .dataframe tbody tr th:only-of-type {\n",
       "        vertical-align: middle;\n",
       "    }\n",
       "\n",
       "    .dataframe tbody tr th {\n",
       "        vertical-align: top;\n",
       "    }\n",
       "\n",
       "    .dataframe thead th {\n",
       "        text-align: right;\n",
       "    }\n",
       "</style>\n",
       "<table border=\"1\" class=\"dataframe\">\n",
       "  <thead>\n",
       "    <tr style=\"text-align: right;\">\n",
       "      <th></th>\n",
       "      <th>Time</th>\n",
       "      <th>V1</th>\n",
       "      <th>V2</th>\n",
       "      <th>V3</th>\n",
       "      <th>V4</th>\n",
       "      <th>V5</th>\n",
       "      <th>V6</th>\n",
       "      <th>V7</th>\n",
       "      <th>V8</th>\n",
       "      <th>V9</th>\n",
       "      <th>...</th>\n",
       "      <th>V23</th>\n",
       "      <th>V24</th>\n",
       "      <th>V25</th>\n",
       "      <th>V26</th>\n",
       "      <th>V27</th>\n",
       "      <th>V28</th>\n",
       "      <th>Amount</th>\n",
       "      <th>Time_in_hours</th>\n",
       "      <th>fraudratio</th>\n",
       "      <th>fraud_per_hour</th>\n",
       "    </tr>\n",
       "  </thead>\n",
       "  <tbody>\n",
       "    <tr>\n",
       "      <th>0</th>\n",
       "      <td>0.000000</td>\n",
       "      <td>NaN</td>\n",
       "      <td>NaN</td>\n",
       "      <td>1.592591</td>\n",
       "      <td>1.173949</td>\n",
       "      <td>NaN</td>\n",
       "      <td>0.679991</td>\n",
       "      <td>0.489488</td>\n",
       "      <td>0.314162</td>\n",
       "      <td>0.603148</td>\n",
       "      <td>...</td>\n",
       "      <td>NaN</td>\n",
       "      <td>0.258705</td>\n",
       "      <td>0.358524</td>\n",
       "      <td>NaN</td>\n",
       "      <td>0.365456</td>\n",
       "      <td>NaN</td>\n",
       "      <td>12.231925</td>\n",
       "      <td>0.0</td>\n",
       "      <td>0.027924</td>\n",
       "      <td>NaN</td>\n",
       "    </tr>\n",
       "    <tr>\n",
       "      <th>1</th>\n",
       "      <td>0.000000</td>\n",
       "      <td>1.091722</td>\n",
       "      <td>0.515898</td>\n",
       "      <td>0.408020</td>\n",
       "      <td>0.669443</td>\n",
       "      <td>0.244985</td>\n",
       "      <td>NaN</td>\n",
       "      <td>NaN</td>\n",
       "      <td>0.291722</td>\n",
       "      <td>NaN</td>\n",
       "      <td>...</td>\n",
       "      <td>0.318258</td>\n",
       "      <td>NaN</td>\n",
       "      <td>0.408865</td>\n",
       "      <td>0.354816</td>\n",
       "      <td>NaN</td>\n",
       "      <td>0.121343</td>\n",
       "      <td>1.640122</td>\n",
       "      <td>0.0</td>\n",
       "      <td>0.027924</td>\n",
       "      <td>NaN</td>\n",
       "    </tr>\n",
       "    <tr>\n",
       "      <th>2</th>\n",
       "      <td>1.000000</td>\n",
       "      <td>NaN</td>\n",
       "      <td>NaN</td>\n",
       "      <td>1.331619</td>\n",
       "      <td>0.616263</td>\n",
       "      <td>NaN</td>\n",
       "      <td>1.341827</td>\n",
       "      <td>0.889641</td>\n",
       "      <td>0.497670</td>\n",
       "      <td>NaN</td>\n",
       "      <td>...</td>\n",
       "      <td>0.953631</td>\n",
       "      <td>NaN</td>\n",
       "      <td>NaN</td>\n",
       "      <td>NaN</td>\n",
       "      <td>NaN</td>\n",
       "      <td>NaN</td>\n",
       "      <td>19.459188</td>\n",
       "      <td>0.0</td>\n",
       "      <td>0.027924</td>\n",
       "      <td>NaN</td>\n",
       "    </tr>\n",
       "    <tr>\n",
       "      <th>3</th>\n",
       "      <td>1.000000</td>\n",
       "      <td>NaN</td>\n",
       "      <td>NaN</td>\n",
       "      <td>1.339027</td>\n",
       "      <td>NaN</td>\n",
       "      <td>NaN</td>\n",
       "      <td>1.116783</td>\n",
       "      <td>0.487451</td>\n",
       "      <td>0.614358</td>\n",
       "      <td>NaN</td>\n",
       "      <td>...</td>\n",
       "      <td>NaN</td>\n",
       "      <td>NaN</td>\n",
       "      <td>0.804597</td>\n",
       "      <td>NaN</td>\n",
       "      <td>0.250445</td>\n",
       "      <td>0.247906</td>\n",
       "      <td>11.113055</td>\n",
       "      <td>0.0</td>\n",
       "      <td>0.027924</td>\n",
       "      <td>NaN</td>\n",
       "    </tr>\n",
       "    <tr>\n",
       "      <th>4</th>\n",
       "      <td>1.414214</td>\n",
       "      <td>NaN</td>\n",
       "      <td>0.936876</td>\n",
       "      <td>1.244475</td>\n",
       "      <td>0.634850</td>\n",
       "      <td>NaN</td>\n",
       "      <td>0.309712</td>\n",
       "      <td>0.770026</td>\n",
       "      <td>NaN</td>\n",
       "      <td>0.904289</td>\n",
       "      <td>...</td>\n",
       "      <td>NaN</td>\n",
       "      <td>0.375855</td>\n",
       "      <td>NaN</td>\n",
       "      <td>0.708726</td>\n",
       "      <td>0.468425</td>\n",
       "      <td>0.463846</td>\n",
       "      <td>8.366003</td>\n",
       "      <td>0.0</td>\n",
       "      <td>0.027924</td>\n",
       "      <td>NaN</td>\n",
       "    </tr>\n",
       "  </tbody>\n",
       "</table>\n",
       "<p>5 rows × 33 columns</p>\n",
       "</div>"
      ],
      "text/plain": [
       "       Time        V1        V2        V3        V4        V5        V6  \\\n",
       "0  0.000000       NaN       NaN  1.592591  1.173949       NaN  0.679991   \n",
       "1  0.000000  1.091722  0.515898  0.408020  0.669443  0.244985       NaN   \n",
       "2  1.000000       NaN       NaN  1.331619  0.616263       NaN  1.341827   \n",
       "3  1.000000       NaN       NaN  1.339027       NaN       NaN  1.116783   \n",
       "4  1.414214       NaN  0.936876  1.244475  0.634850       NaN  0.309712   \n",
       "\n",
       "         V7        V8        V9  ...       V23       V24       V25       V26  \\\n",
       "0  0.489488  0.314162  0.603148  ...       NaN  0.258705  0.358524       NaN   \n",
       "1       NaN  0.291722       NaN  ...  0.318258       NaN  0.408865  0.354816   \n",
       "2  0.889641  0.497670       NaN  ...  0.953631       NaN       NaN       NaN   \n",
       "3  0.487451  0.614358       NaN  ...       NaN       NaN  0.804597       NaN   \n",
       "4  0.770026       NaN  0.904289  ...       NaN  0.375855       NaN  0.708726   \n",
       "\n",
       "        V27       V28     Amount  Time_in_hours  fraudratio  fraud_per_hour  \n",
       "0  0.365456       NaN  12.231925            0.0    0.027924             NaN  \n",
       "1       NaN  0.121343   1.640122            0.0    0.027924             NaN  \n",
       "2       NaN       NaN  19.459188            0.0    0.027924             NaN  \n",
       "3  0.250445  0.247906  11.113055            0.0    0.027924             NaN  \n",
       "4  0.468425  0.463846   8.366003            0.0    0.027924             NaN  \n",
       "\n",
       "[5 rows x 33 columns]"
      ]
     },
     "execution_count": 15,
     "metadata": {},
     "output_type": "execute_result"
    }
   ],
   "source": [
    "df_skewed_sqrt.head()"
   ]
  },
  {
   "cell_type": "code",
   "execution_count": 16,
   "metadata": {},
   "outputs": [
    {
     "name": "stderr",
     "output_type": "stream",
     "text": [
      "c:\\users\\tnall\\analytictask\\venv\\lib\\site-packages\\ipykernel_launcher.py:1: RuntimeWarning:\n",
      "\n",
      "divide by zero encountered in log\n",
      "\n",
      "c:\\users\\tnall\\analytictask\\venv\\lib\\site-packages\\ipykernel_launcher.py:1: RuntimeWarning:\n",
      "\n",
      "invalid value encountered in log\n",
      "\n"
     ]
    },
    {
     "data": {
      "text/plain": [
       "Time                   NaN\n",
       "V1               -3.035317\n",
       "V2               -1.318566\n",
       "V3               -1.603961\n",
       "V4               -1.131153\n",
       "V5               -1.136297\n",
       "V6               -0.931294\n",
       "V7               -1.220334\n",
       "V8               -0.998367\n",
       "V9               -1.274661\n",
       "V10              -1.085637\n",
       "V11              -1.719891\n",
       "V12              -1.673093\n",
       "V13              -1.552016\n",
       "V14              -1.308361\n",
       "V15              -1.682026\n",
       "V16              -1.460810\n",
       "V17              -1.251839\n",
       "V18              -1.372486\n",
       "V19              -1.240433\n",
       "V20              -0.605549\n",
       "V21              -0.811133\n",
       "V22              -1.658852\n",
       "V23              -0.824313\n",
       "V24              -1.530050\n",
       "V25              -1.673481\n",
       "V26              -1.019660\n",
       "V27              -0.712096\n",
       "V28              -0.650381\n",
       "Amount                 NaN\n",
       "Time_in_hours          NaN\n",
       "fraudratio        1.109685\n",
       "fraud_per_hour         NaN\n",
       "dtype: float64"
      ]
     },
     "execution_count": 16,
     "metadata": {},
     "output_type": "execute_result"
    }
   ],
   "source": [
    "df_skewed_log = np.log(df_skewtemp)\n",
    "df_skewed_log.skew()"
   ]
  },
  {
   "cell_type": "code",
   "execution_count": 17,
   "metadata": {},
   "outputs": [
    {
     "data": {
      "text/html": [
       "<div>\n",
       "<style scoped>\n",
       "    .dataframe tbody tr th:only-of-type {\n",
       "        vertical-align: middle;\n",
       "    }\n",
       "\n",
       "    .dataframe tbody tr th {\n",
       "        vertical-align: top;\n",
       "    }\n",
       "\n",
       "    .dataframe thead th {\n",
       "        text-align: right;\n",
       "    }\n",
       "</style>\n",
       "<table border=\"1\" class=\"dataframe\">\n",
       "  <thead>\n",
       "    <tr style=\"text-align: right;\">\n",
       "      <th></th>\n",
       "      <th>Time</th>\n",
       "      <th>V1</th>\n",
       "      <th>V2</th>\n",
       "      <th>V3</th>\n",
       "      <th>V4</th>\n",
       "      <th>V5</th>\n",
       "      <th>V6</th>\n",
       "      <th>V7</th>\n",
       "      <th>V8</th>\n",
       "      <th>V9</th>\n",
       "      <th>...</th>\n",
       "      <th>V23</th>\n",
       "      <th>V24</th>\n",
       "      <th>V25</th>\n",
       "      <th>V26</th>\n",
       "      <th>V27</th>\n",
       "      <th>V28</th>\n",
       "      <th>Amount</th>\n",
       "      <th>Time_in_hours</th>\n",
       "      <th>fraudratio</th>\n",
       "      <th>fraud_per_hour</th>\n",
       "    </tr>\n",
       "  </thead>\n",
       "  <tbody>\n",
       "    <tr>\n",
       "      <th>0</th>\n",
       "      <td>-inf</td>\n",
       "      <td>NaN</td>\n",
       "      <td>NaN</td>\n",
       "      <td>0.930725</td>\n",
       "      <td>0.320746</td>\n",
       "      <td>NaN</td>\n",
       "      <td>-0.771351</td>\n",
       "      <td>-1.428790</td>\n",
       "      <td>-2.315692</td>\n",
       "      <td>-1.011187</td>\n",
       "      <td>...</td>\n",
       "      <td>NaN</td>\n",
       "      <td>-2.704137</td>\n",
       "      <td>-2.051520</td>\n",
       "      <td>NaN</td>\n",
       "      <td>-2.013217</td>\n",
       "      <td>NaN</td>\n",
       "      <td>5.008099</td>\n",
       "      <td>-inf</td>\n",
       "      <td>-7.156567</td>\n",
       "      <td>NaN</td>\n",
       "    </tr>\n",
       "    <tr>\n",
       "      <th>1</th>\n",
       "      <td>-inf</td>\n",
       "      <td>0.175513</td>\n",
       "      <td>-1.323693</td>\n",
       "      <td>-1.792879</td>\n",
       "      <td>-0.802618</td>\n",
       "      <td>-2.813117</td>\n",
       "      <td>NaN</td>\n",
       "      <td>NaN</td>\n",
       "      <td>-2.463909</td>\n",
       "      <td>NaN</td>\n",
       "      <td>...</td>\n",
       "      <td>-2.289787</td>\n",
       "      <td>NaN</td>\n",
       "      <td>-1.788742</td>\n",
       "      <td>-2.072311</td>\n",
       "      <td>NaN</td>\n",
       "      <td>-4.218265</td>\n",
       "      <td>0.989541</td>\n",
       "      <td>-inf</td>\n",
       "      <td>-7.156567</td>\n",
       "      <td>NaN</td>\n",
       "    </tr>\n",
       "    <tr>\n",
       "      <th>2</th>\n",
       "      <td>0.000000</td>\n",
       "      <td>NaN</td>\n",
       "      <td>NaN</td>\n",
       "      <td>0.572791</td>\n",
       "      <td>-0.968164</td>\n",
       "      <td>NaN</td>\n",
       "      <td>0.588064</td>\n",
       "      <td>-0.233875</td>\n",
       "      <td>-1.395635</td>\n",
       "      <td>NaN</td>\n",
       "      <td>...</td>\n",
       "      <td>-0.094957</td>\n",
       "      <td>NaN</td>\n",
       "      <td>NaN</td>\n",
       "      <td>NaN</td>\n",
       "      <td>NaN</td>\n",
       "      <td>NaN</td>\n",
       "      <td>5.936639</td>\n",
       "      <td>-inf</td>\n",
       "      <td>-7.156567</td>\n",
       "      <td>NaN</td>\n",
       "    </tr>\n",
       "    <tr>\n",
       "      <th>3</th>\n",
       "      <td>0.000000</td>\n",
       "      <td>NaN</td>\n",
       "      <td>NaN</td>\n",
       "      <td>0.583886</td>\n",
       "      <td>NaN</td>\n",
       "      <td>NaN</td>\n",
       "      <td>0.220904</td>\n",
       "      <td>-1.437129</td>\n",
       "      <td>-0.974355</td>\n",
       "      <td>NaN</td>\n",
       "      <td>...</td>\n",
       "      <td>NaN</td>\n",
       "      <td>NaN</td>\n",
       "      <td>-0.434828</td>\n",
       "      <td>NaN</td>\n",
       "      <td>-2.769029</td>\n",
       "      <td>-2.789407</td>\n",
       "      <td>4.816241</td>\n",
       "      <td>-inf</td>\n",
       "      <td>-7.156567</td>\n",
       "      <td>NaN</td>\n",
       "    </tr>\n",
       "    <tr>\n",
       "      <th>4</th>\n",
       "      <td>0.693147</td>\n",
       "      <td>NaN</td>\n",
       "      <td>-0.130409</td>\n",
       "      <td>0.437427</td>\n",
       "      <td>-0.908735</td>\n",
       "      <td>NaN</td>\n",
       "      <td>-2.344226</td>\n",
       "      <td>-0.522661</td>\n",
       "      <td>NaN</td>\n",
       "      <td>-0.201212</td>\n",
       "      <td>...</td>\n",
       "      <td>NaN</td>\n",
       "      <td>-1.957104</td>\n",
       "      <td>NaN</td>\n",
       "      <td>-0.688573</td>\n",
       "      <td>-1.516757</td>\n",
       "      <td>-1.536405</td>\n",
       "      <td>4.248352</td>\n",
       "      <td>-inf</td>\n",
       "      <td>-7.156567</td>\n",
       "      <td>NaN</td>\n",
       "    </tr>\n",
       "  </tbody>\n",
       "</table>\n",
       "<p>5 rows × 33 columns</p>\n",
       "</div>"
      ],
      "text/plain": [
       "       Time        V1        V2        V3        V4        V5        V6  \\\n",
       "0      -inf       NaN       NaN  0.930725  0.320746       NaN -0.771351   \n",
       "1      -inf  0.175513 -1.323693 -1.792879 -0.802618 -2.813117       NaN   \n",
       "2  0.000000       NaN       NaN  0.572791 -0.968164       NaN  0.588064   \n",
       "3  0.000000       NaN       NaN  0.583886       NaN       NaN  0.220904   \n",
       "4  0.693147       NaN -0.130409  0.437427 -0.908735       NaN -2.344226   \n",
       "\n",
       "         V7        V8        V9  ...       V23       V24       V25       V26  \\\n",
       "0 -1.428790 -2.315692 -1.011187  ...       NaN -2.704137 -2.051520       NaN   \n",
       "1       NaN -2.463909       NaN  ... -2.289787       NaN -1.788742 -2.072311   \n",
       "2 -0.233875 -1.395635       NaN  ... -0.094957       NaN       NaN       NaN   \n",
       "3 -1.437129 -0.974355       NaN  ...       NaN       NaN -0.434828       NaN   \n",
       "4 -0.522661       NaN -0.201212  ...       NaN -1.957104       NaN -0.688573   \n",
       "\n",
       "        V27       V28    Amount  Time_in_hours  fraudratio  fraud_per_hour  \n",
       "0 -2.013217       NaN  5.008099           -inf   -7.156567             NaN  \n",
       "1       NaN -4.218265  0.989541           -inf   -7.156567             NaN  \n",
       "2       NaN       NaN  5.936639           -inf   -7.156567             NaN  \n",
       "3 -2.769029 -2.789407  4.816241           -inf   -7.156567             NaN  \n",
       "4 -1.516757 -1.536405  4.248352           -inf   -7.156567             NaN  \n",
       "\n",
       "[5 rows x 33 columns]"
      ]
     },
     "execution_count": 17,
     "metadata": {},
     "output_type": "execute_result"
    }
   ],
   "source": [
    "df_skewed_log.head()"
   ]
  },
  {
   "cell_type": "markdown",
   "metadata": {},
   "source": [
    "since both log and sqrt methods return NAN values for data transformation normalization methods are suggested"
   ]
  },
  {
   "cell_type": "markdown",
   "metadata": {},
   "source": [
    "# Data balancing"
   ]
  },
  {
   "cell_type": "code",
   "execution_count": 18,
   "metadata": {},
   "outputs": [],
   "source": [
    "from imblearn.over_sampling import SMOTE\n",
    "from imblearn.over_sampling import ADASYN"
   ]
  },
  {
   "cell_type": "code",
   "execution_count": 19,
   "metadata": {},
   "outputs": [],
   "source": [
    "X = df.drop(['Class','fraud_per_hour'], axis=1)\n",
    "Y = df['Class']"
   ]
  },
  {
   "cell_type": "code",
   "execution_count": 20,
   "metadata": {},
   "outputs": [],
   "source": [
    "sm = SMOTE(random_state=2)\n",
    "X_sm, Y_sm = sm.fit_resample(X,Y)"
   ]
  },
  {
   "cell_type": "markdown",
   "metadata": {},
   "source": [
    "# Feature normalization "
   ]
  },
  {
   "cell_type": "code",
   "execution_count": 21,
   "metadata": {},
   "outputs": [],
   "source": [
    "from sklearn.preprocessing import StandardScaler,MinMaxScaler"
   ]
  },
  {
   "cell_type": "code",
   "execution_count": 22,
   "metadata": {},
   "outputs": [],
   "source": [
    "X_stand = pd.DataFrame(StandardScaler().fit_transform(X_sm), columns=X_sm.columns, index=X_sm.index)"
   ]
  },
  {
   "cell_type": "code",
   "execution_count": 23,
   "metadata": {},
   "outputs": [],
   "source": [
    "X_minmax = pd.DataFrame(MinMaxScaler().fit_transform(X_sm), columns=X_sm.columns, index=X_sm.index)"
   ]
  },
  {
   "cell_type": "markdown",
   "metadata": {},
   "source": [
    "correlation between all variables"
   ]
  },
  {
   "cell_type": "code",
   "execution_count": 24,
   "metadata": {},
   "outputs": [
    {
     "data": {
      "image/png": "[encoded data removed]",
      "text/plain": [
       "<Figure size 1296x1296 with 2 Axes>"
      ]
     },
     "metadata": {
      "needs_background": "light"
     },
     "output_type": "display_data"
    }
   ],
   "source": [
    "plt.figure(figsize=(18, 18))\n",
    "fig = sns.heatmap(df.corr(),linewidths=.1)\n",
    "plt.show()"
   ]
  },
  {
   "cell_type": "markdown",
   "metadata": {},
   "source": [
    "Variable correlation with class"
   ]
  },
  {
   "cell_type": "code",
   "execution_count": 25,
   "metadata": {},
   "outputs": [
    {
     "data": {
      "image/png": "[encoded data removed]",
      "text/plain": [
       "<Figure size 1080x1080 with 2 Axes>"
      ]
     },
     "metadata": {
      "needs_background": "light"
     },
     "output_type": "display_data"
    }
   ],
   "source": [
    "rel = df.corrwith(df['Class']).reset_index()\n",
    "\n",
    "rel.columns = ['Variables','Correlations']\n",
    "rel = rel.set_index('Variables')\n",
    "rel = rel.sort_values(by=['Correlations'], ascending = False)\n",
    "\n",
    "plt.figure(figsize=(15, 15))\n",
    "fig = sns.heatmap(rel, annot=True, linewidths=0.4, linecolor='black')\n",
    "\n",
    "plt.title(\"Correlation of Variables with Class\")\n",
    "plt.show()"
   ]
  },
  {
   "cell_type": "markdown",
   "metadata": {},
   "source": [
    "V10,V12,V14,V17 has high negative correlation\n",
    "V11,V4,V2,V21 ga high positive correlation"
   ]
  },
  {
   "cell_type": "markdown",
   "metadata": {},
   "source": [
    "# Feature selection "
   ]
  },
  {
   "cell_type": "code",
   "execution_count": 26,
   "metadata": {},
   "outputs": [],
   "source": [
    "from sklearn.feature_selection import SelectFromModel\n",
    "from sklearn.linear_model import Ridge\n",
    "from sklearn.linear_model import LassoCV"
   ]
  },
  {
   "cell_type": "markdown",
   "metadata": {},
   "source": [
    "Ridge method"
   ]
  },
  {
   "cell_type": "code",
   "execution_count": 27,
   "metadata": {},
   "outputs": [
    {
     "name": "stdout",
     "output_type": "stream",
     "text": [
      "[0.03225962 0.08066553 0.04872068 0.06298603 0.17049247 0.07329712\n",
      " 0.03015803 0.1202242  0.06735567 0.02272932 0.07660502 0.01724127\n",
      " 0.02961581 0.02361962 0.2573787  0.01125503 0.02818392 0.07728484\n",
      " 0.0859294  0.02263606 0.00582021 0.03315591 0.04427566 0.02814583\n",
      " 0.00625288 0.00102443 0.03189917 0.00296632 0.03054044 0.02845184\n",
      " 0.02049086 0.01497255]\n",
      "Selected features: ['V14' 'V4' 'V7' 'V18' 'V1' 'V17' 'V10' 'V5' 'V8' 'V3' 'V2' 'V22' 'V21'\n",
      " 'Time' 'V26' 'V28' 'V6' 'V12' 'Amount' 'V16']\n"
     ]
    }
   ],
   "source": [
    "feature_names = X_stand.columns\n",
    "clf = Ridge().fit(X_stand, Y_sm)\n",
    "importance = np.abs(clf.coef_)\n",
    "print(importance)\n",
    "\n",
    "idx_third = importance.argsort()[-1]\n",
    "threshold = importance[idx_third] + 0.01\n",
    "\n",
    "idx_features = (-importance).argsort()[:20]\n",
    "name_features = np.array(feature_names)[idx_features]\n",
    "print('Selected features: {}'.format(name_features))\n",
    "model = SelectFromModel(clf, prefit=True, threshold='mean')\n",
    "X_new_stand = model.transform(X_stand)\n",
    "n_features = model.transform(X_stand).shape[1]"
   ]
  },
  {
   "cell_type": "code",
   "execution_count": 28,
   "metadata": {},
   "outputs": [
    {
     "name": "stdout",
     "output_type": "stream",
     "text": [
      "[0.11327143 0.87773851 1.16542071 0.58704014 1.22777047 2.46237934\n",
      " 1.68485585 3.51051787 1.2734649  0.291763   0.84127584 0.10469578\n",
      " 0.16895484 0.30740521 1.6913669  0.15984842 0.25843989 0.4528935\n",
      " 0.54364855 0.24253893 0.63111066 0.73261779 0.80244109 1.89311506\n",
      " 0.08684808 0.03256477 0.43718236 0.15650012 3.5116265  2.99963837\n",
      " 0.07283916 0.06118756]\n",
      "Selected features: ['V28' 'V7' 'Amount' 'V5' 'V23' 'V14' 'V6' 'V8' 'V4' 'V2' 'V1' 'V10' 'V22'\n",
      " 'V21' 'V20' 'V3' 'V18' 'V17' 'V26' 'V13']\n"
     ]
    }
   ],
   "source": [
    "feature_names = X_minmax.columns\n",
    "clf = Ridge().fit(X_minmax, Y_sm)\n",
    "importance = np.abs(clf.coef_)\n",
    "print(importance)\n",
    "\n",
    "idx_third = importance.argsort()[-1]\n",
    "threshold = importance[idx_third] + 0.01\n",
    "\n",
    "idx_features = (-importance).argsort()[:20]\n",
    "name_features = np.array(feature_names)[idx_features]\n",
    "print('Selected features: {}'.format(name_features))\n",
    "model = SelectFromModel(clf, prefit=True, threshold='mean')\n",
    "X_new_minmax = model.transform(X_minmax)\n",
    "n_features = model.transform(X_minmax).shape[1]"
   ]
  },
  {
   "cell_type": "markdown",
   "metadata": {},
   "source": [
    "Lassocv"
   ]
  },
  {
   "cell_type": "code",
   "execution_count": 29,
   "metadata": {},
   "outputs": [
    {
     "name": "stdout",
     "output_type": "stream",
     "text": [
      "[0.         0.03611673 0.01859729 0.         0.15064528 0.02030987\n",
      " 0.02144694 0.         0.03678459 0.         0.00435133 0.\n",
      " 0.         0.0245734  0.27674541 0.         0.         0.\n",
      " 0.04740918 0.00530971 0.         0.         0.01157805 0.01396877\n",
      " 0.         0.00093086 0.02734363 0.         0.02637891 0.03169824\n",
      " 0.00341784 0.00834728]\n",
      "Selected features: ['V14' 'V4' 'V18' 'V8' 'V1' 'Amount' 'V26' 'V28' 'V13' 'V6' 'V5' 'V2'\n",
      " 'V23' 'V22' 'fraudratio' 'V19' 'V10' 'Time_in_hours' 'V25' 'V24']\n"
     ]
    }
   ],
   "source": [
    "feature_names = X_stand.columns\n",
    "clf = LassoCV().fit(X_stand, Y_sm)\n",
    "importance = np.abs(clf.coef_)\n",
    "print(importance)\n",
    "idx_third = importance.argsort()[-1]\n",
    "threshold = importance[idx_third] + 0.01\n",
    "\n",
    "idx_features = (-importance).argsort()[:20]\n",
    "name_features = np.array(feature_names)[idx_features]\n",
    "print('Selected features: {}'.format(name_features))\n",
    "model = SelectFromModel(clf, prefit=True, threshold='mean')\n",
    "X_new_lstand = model.transform(X_stand)\n",
    "n_features = model.transform(X_stand).shape[1]"
   ]
  },
  {
   "cell_type": "code",
   "execution_count": 30,
   "metadata": {},
   "outputs": [
    {
     "name": "stdout",
     "output_type": "stream",
     "text": [
      "[0.06631239 0.91822461 0.15764545 0.36282465 1.24038359 0.6460565\n",
      " 0.86342226 3.27091155 1.2233725  0.16412631 0.74042855 0.02628723\n",
      " 0.07348014 0.31309153 1.73691256 0.10119728 0.06772056 0.22196752\n",
      " 0.55025667 0.17498599 0.52628636 0.52606996 0.57243284 1.83639578\n",
      " 0.07745728 0.         0.44170479 0.         2.98502437 0.60468553\n",
      " 0.05299671 0.06550256]\n",
      "Selected features: ['V7' 'V28' 'V23' 'V14' 'V4' 'V8' 'V1' 'V6' 'V10' 'V5' 'Amount' 'V22'\n",
      " 'V18' 'V20' 'V21' 'V26' 'V3' 'V13' 'V17' 'V19']\n"
     ]
    }
   ],
   "source": [
    "feature_names = X_minmax.columns\n",
    "clf = LassoCV().fit(X_minmax, Y_sm)\n",
    "importance = np.abs(clf.coef_)\n",
    "print(importance)\n",
    "idx_third = importance.argsort()[-1]\n",
    "threshold = importance[idx_third] + 0.01\n",
    "\n",
    "idx_features = (-importance).argsort()[:20]\n",
    "name_features = np.array(feature_names)[idx_features]\n",
    "print('Selected features: {}'.format(name_features))\n",
    "model = SelectFromModel(clf, prefit=True, threshold='mean')\n",
    "X_new_lminmax = model.transform(X_minmax)\n",
    "n_features = model.transform(X_minmax).shape[1]"
   ]
  },
  {
   "cell_type": "markdown",
   "metadata": {},
   "source": [
    "# Data preprocessing for skewed data with log method"
   ]
  },
  {
   "cell_type": "code",
   "execution_count": 31,
   "metadata": {},
   "outputs": [],
   "source": [
    "from sklearn.model_selection import train_test_split"
   ]
  },
  {
   "cell_type": "code",
   "execution_count": 32,
   "metadata": {},
   "outputs": [],
   "source": [
    "X_train1, X_test1, Y_train1, Y_test1 = train_test_split(X_new_stand, Y_sm, test_size=0.3, random_state=0)"
   ]
  },
  {
   "cell_type": "code",
   "execution_count": 33,
   "metadata": {},
   "outputs": [],
   "source": [
    "X_train2, X_test2, Y_train2, Y_test2 = train_test_split(X_new_minmax, Y_sm, test_size=0.3, random_state=0)"
   ]
  },
  {
   "cell_type": "code",
   "execution_count": 34,
   "metadata": {},
   "outputs": [],
   "source": [
    "X_train3, X_test3, Y_train3, Y_test3 = train_test_split(X_new_lstand, Y_sm, test_size=0.3, random_state=0)"
   ]
  },
  {
   "cell_type": "code",
   "execution_count": 35,
   "metadata": {},
   "outputs": [],
   "source": [
    "X_train4, X_test4, Y_train4, Y_test4 = train_test_split(X_new_lminmax, Y_sm, test_size=0.3, random_state=0)"
   ]
  },
  {
   "cell_type": "markdown",
   "metadata": {},
   "source": [
    "# Model"
   ]
  },
  {
   "cell_type": "code",
   "execution_count": 36,
   "metadata": {},
   "outputs": [],
   "source": [
    "#Importing librairies\n",
    "\n",
    "import pandas as pd \n",
    "import numpy as np\n",
    "\n",
    "# Scikit-learn library: For SVM\n",
    "from sklearn import preprocessing\n",
    "from sklearn.metrics import confusion_matrix,classification_report\n",
    "from sklearn import svm\n",
    "from sklearn.linear_model import LogisticRegression\n",
    "from sklearn.ensemble import RandomForestClassifier\n",
    "from scipy.stats import randint\n",
    "\n",
    "import itertools\n",
    "\n",
    "# Matplotlib library to plot the charts\n",
    "import matplotlib.pyplot as plt\n",
    "import matplotlib.mlab as mlab\n",
    "\n",
    "# Library for the statistic data vizualisation\n",
    "import seaborn\n",
    "\n",
    "%matplotlib inline"
   ]
  },
  {
   "cell_type": "code",
   "execution_count": 37,
   "metadata": {},
   "outputs": [],
   "source": [
    "class_names=np.array(['0','1'])\n",
    "# Function to plot the confusion Matrix\n",
    "def plot_confusion_matrix(cm, classes,\n",
    "                          title='Confusion matrix',\n",
    "                          cmap=plt.cm.Blues):\n",
    "    \n",
    "    plt.imshow(cm, interpolation='nearest', cmap=cmap)\n",
    "    plt.title(title)\n",
    "    plt.colorbar()\n",
    "    tick_marks = np.arange(len(classes))\n",
    "    plt.xticks(tick_marks, classes, rotation=45)\n",
    "    plt.yticks(tick_marks, classes)\n",
    "\n",
    "    fmt = 'd' \n",
    "    thresh = cm.max() / 2.\n",
    "    for i, j in itertools.product(range(cm.shape[0]), range(cm.shape[1])):\n",
    "        plt.text(j, i, format(cm[i, j], fmt),\n",
    "                 horizontalalignment=\"center\",\n",
    "                 color=\"white\" if cm[i, j] > thresh else \"black\")\n",
    "\n",
    "    plt.tight_layout()\n",
    "    plt.ylabel('True label')\n",
    "    plt.xlabel('Predicted label')"
   ]
  },
  {
   "cell_type": "markdown",
   "metadata": {},
   "source": [
    "# SVM Model"
   ]
  },
  {
   "cell_type": "code",
   "execution_count": 38,
   "metadata": {},
   "outputs": [
    {
     "data": {
      "text/plain": [
       "0.9802759012262556"
      ]
     },
     "execution_count": 38,
     "metadata": {},
     "output_type": "execute_result"
    }
   ],
   "source": [
    "clf = svm.SVC()\n",
    "clf.fit(X_train1, Y_train1)\n",
    "clf.score(X_train1, Y_train1)"
   ]
  },
  {
   "cell_type": "code",
   "execution_count": 39,
   "metadata": {},
   "outputs": [],
   "source": [
    "prediction_SVM = clf.predict(X_test1)"
   ]
  },
  {
   "cell_type": "code",
   "execution_count": 40,
   "metadata": {},
   "outputs": [
    {
     "name": "stdout",
     "output_type": "stream",
     "text": [
      "              precision    recall  f1-score   support\n",
      "\n",
      "           0       0.97      0.99      0.98     85137\n",
      "           1       0.99      0.97      0.98     85452\n",
      "\n",
      "    accuracy                           0.98    170589\n",
      "   macro avg       0.98      0.98      0.98    170589\n",
      "weighted avg       0.98      0.98      0.98    170589\n",
      "\n"
     ]
    },
    {
     "data": {
      "image/png": "[encoded data removed]",
      "text/plain": [
       "<Figure size 432x288 with 2 Axes>"
      ]
     },
     "metadata": {
      "needs_background": "light"
     },
     "output_type": "display_data"
    }
   ],
   "source": [
    "cm = confusion_matrix(Y_test1, prediction_SVM)\n",
    "plot_confusion_matrix(cm,class_names)\n",
    "print(classification_report(Y_test1,prediction_SVM))"
   ]
  },
  {
   "cell_type": "code",
   "execution_count": 41,
   "metadata": {},
   "outputs": [
    {
     "data": {
      "text/plain": [
       "0.9658879361673798"
      ]
     },
     "execution_count": 41,
     "metadata": {},
     "output_type": "execute_result"
    }
   ],
   "source": [
    "clf = svm.SVC()\n",
    "clf.fit(X_train2, Y_train2)\n",
    "clf.score(X_train2, Y_train2)"
   ]
  },
  {
   "cell_type": "code",
   "execution_count": 42,
   "metadata": {},
   "outputs": [],
   "source": [
    "prediction_SVM = clf.predict(X_test2)"
   ]
  },
  {
   "cell_type": "code",
   "execution_count": 43,
   "metadata": {},
   "outputs": [
    {
     "name": "stdout",
     "output_type": "stream",
     "text": [
      "              precision    recall  f1-score   support\n",
      "\n",
      "           0       0.95      0.98      0.97     85137\n",
      "           1       0.98      0.95      0.96     85452\n",
      "\n",
      "    accuracy                           0.97    170589\n",
      "   macro avg       0.97      0.97      0.97    170589\n",
      "weighted avg       0.97      0.97      0.97    170589\n",
      "\n"
     ]
    },
    {
     "data": {
      "image/png": "[encoded data removed]",
      "text/plain": [
       "<Figure size 432x288 with 2 Axes>"
      ]
     },
     "metadata": {
      "needs_background": "light"
     },
     "output_type": "display_data"
    }
   ],
   "source": [
    "cm = confusion_matrix(Y_test1, prediction_SVM)\n",
    "plot_confusion_matrix(cm,class_names)\n",
    "print(classification_report(Y_test2,prediction_SVM))"
   ]
  },
  {
   "cell_type": "code",
   "execution_count": 44,
   "metadata": {},
   "outputs": [
    {
     "data": {
      "text/plain": [
       "0.9801276752897314"
      ]
     },
     "execution_count": 44,
     "metadata": {},
     "output_type": "execute_result"
    }
   ],
   "source": [
    "clf = svm.SVC()\n",
    "clf.fit(X_train3, Y_train3)\n",
    "clf.score(X_train3, Y_train3)"
   ]
  },
  {
   "cell_type": "code",
   "execution_count": 45,
   "metadata": {},
   "outputs": [],
   "source": [
    "prediction_SVM = clf.predict(X_test3)"
   ]
  },
  {
   "cell_type": "code",
   "execution_count": 46,
   "metadata": {},
   "outputs": [
    {
     "name": "stdout",
     "output_type": "stream",
     "text": [
      "              precision    recall  f1-score   support\n",
      "\n",
      "           0       0.97      0.99      0.98     85137\n",
      "           1       0.99      0.97      0.98     85452\n",
      "\n",
      "    accuracy                           0.98    170589\n",
      "   macro avg       0.98      0.98      0.98    170589\n",
      "weighted avg       0.98      0.98      0.98    170589\n",
      "\n"
     ]
    },
    {
     "data": {
      "image/png": "[encoded data removed]",
      "text/plain": [
       "<Figure size 432x288 with 2 Axes>"
      ]
     },
     "metadata": {
      "needs_background": "light"
     },
     "output_type": "display_data"
    }
   ],
   "source": [
    "cm = confusion_matrix(Y_test3, prediction_SVM)\n",
    "plot_confusion_matrix(cm,class_names)\n",
    "print(classification_report(Y_test3,prediction_SVM))"
   ]
  },
  {
   "cell_type": "code",
   "execution_count": 47,
   "metadata": {},
   "outputs": [
    {
     "data": {
      "text/plain": [
       "0.9685710768488673"
      ]
     },
     "execution_count": 47,
     "metadata": {},
     "output_type": "execute_result"
    }
   ],
   "source": [
    "clf = svm.SVC()\n",
    "clf.fit(X_train4, Y_train4)\n",
    "clf.score(X_train4, Y_train4)"
   ]
  },
  {
   "cell_type": "code",
   "execution_count": 48,
   "metadata": {},
   "outputs": [],
   "source": [
    "prediction_SVM = clf.predict(X_test4)"
   ]
  },
  {
   "cell_type": "code",
   "execution_count": 49,
   "metadata": {},
   "outputs": [
    {
     "name": "stdout",
     "output_type": "stream",
     "text": [
      "              precision    recall  f1-score   support\n",
      "\n",
      "           0       0.95      0.99      0.97     85137\n",
      "           1       0.99      0.95      0.97     85452\n",
      "\n",
      "    accuracy                           0.97    170589\n",
      "   macro avg       0.97      0.97      0.97    170589\n",
      "weighted avg       0.97      0.97      0.97    170589\n",
      "\n"
     ]
    },
    {
     "data": {
      "image/png": "[encoded data removed]",
      "text/plain": [
       "<Figure size 432x288 with 2 Axes>"
      ]
     },
     "metadata": {
      "needs_background": "light"
     },
     "output_type": "display_data"
    }
   ],
   "source": [
    "cm = confusion_matrix(Y_test4, prediction_SVM)\n",
    "plot_confusion_matrix(cm,class_names)\n",
    "print(classification_report(Y_test4,prediction_SVM))"
   ]
  },
  {
   "cell_type": "markdown",
   "metadata": {},
   "source": [
    "# Logistic regression"
   ]
  },
  {
   "cell_type": "code",
   "execution_count": 50,
   "metadata": {},
   "outputs": [
    {
     "data": {
      "text/plain": [
       "0.9696991013488561"
      ]
     },
     "execution_count": 50,
     "metadata": {},
     "output_type": "execute_result"
    }
   ],
   "source": [
    "cllr = LogisticRegression()\n",
    "cllr.fit(X_train1, Y_train1)\n",
    "cllr.score(X_train1, Y_train1)"
   ]
  },
  {
   "cell_type": "code",
   "execution_count": 51,
   "metadata": {},
   "outputs": [],
   "source": [
    "prediction_lr = cllr.predict(X_test1)"
   ]
  },
  {
   "cell_type": "code",
   "execution_count": 52,
   "metadata": {},
   "outputs": [
    {
     "name": "stdout",
     "output_type": "stream",
     "text": [
      "              precision    recall  f1-score   support\n",
      "\n",
      "           0       0.95      0.99      0.97     85137\n",
      "           1       0.99      0.95      0.97     85452\n",
      "\n",
      "    accuracy                           0.97    170589\n",
      "   macro avg       0.97      0.97      0.97    170589\n",
      "weighted avg       0.97      0.97      0.97    170589\n",
      "\n"
     ]
    },
    {
     "data": {
      "image/png": "[encoded data removed]",
      "text/plain": [
       "<Figure size 432x288 with 2 Axes>"
      ]
     },
     "metadata": {
      "needs_background": "light"
     },
     "output_type": "display_data"
    }
   ],
   "source": [
    "cm = confusion_matrix(Y_test1, prediction_lr)\n",
    "plot_confusion_matrix(cm,class_names)\n",
    "print(classification_report(Y_test1,prediction_lr))"
   ]
  },
  {
   "cell_type": "code",
   "execution_count": 53,
   "metadata": {},
   "outputs": [
    {
     "name": "stderr",
     "output_type": "stream",
     "text": [
      "c:\\users\\tnall\\analytictask\\venv\\lib\\site-packages\\sklearn\\linear_model\\_logistic.py:764: ConvergenceWarning:\n",
      "\n",
      "lbfgs failed to converge (status=1):\n",
      "STOP: TOTAL NO. of ITERATIONS REACHED LIMIT.\n",
      "\n",
      "Increase the number of iterations (max_iter) or scale the data as shown in:\n",
      "    https://scikit-learn.org/stable/modules/preprocessing.html\n",
      "Please also refer to the documentation for alternative solver options:\n",
      "    https://scikit-learn.org/stable/modules/linear_model.html#logistic-regression\n",
      "\n"
     ]
    },
    {
     "data": {
      "text/plain": [
       "0.961720023816642"
      ]
     },
     "execution_count": 53,
     "metadata": {},
     "output_type": "execute_result"
    }
   ],
   "source": [
    "cllr = LogisticRegression()\n",
    "cllr.fit(X_train2, Y_train2)\n",
    "cllr.score(X_train2, Y_train2)"
   ]
  },
  {
   "cell_type": "code",
   "execution_count": 54,
   "metadata": {},
   "outputs": [],
   "source": [
    "prediction_lr = cllr.predict(X_test2)"
   ]
  },
  {
   "cell_type": "code",
   "execution_count": 55,
   "metadata": {},
   "outputs": [
    {
     "name": "stdout",
     "output_type": "stream",
     "text": [
      "              precision    recall  f1-score   support\n",
      "\n",
      "           0       0.94      0.98      0.96     85137\n",
      "           1       0.98      0.94      0.96     85452\n",
      "\n",
      "    accuracy                           0.96    170589\n",
      "   macro avg       0.96      0.96      0.96    170589\n",
      "weighted avg       0.96      0.96      0.96    170589\n",
      "\n"
     ]
    },
    {
     "data": {
      "image/png": "[encoded data removed]",
      "text/plain": [
       "<Figure size 432x288 with 2 Axes>"
      ]
     },
     "metadata": {
      "needs_background": "light"
     },
     "output_type": "display_data"
    }
   ],
   "source": [
    "cm = confusion_matrix(Y_test2, prediction_lr)\n",
    "plot_confusion_matrix(cm,class_names)\n",
    "print(classification_report(Y_test2,prediction_lr))"
   ]
  },
  {
   "cell_type": "code",
   "execution_count": 56,
   "metadata": {},
   "outputs": [
    {
     "data": {
      "text/plain": [
       "0.9634560258867805"
      ]
     },
     "execution_count": 56,
     "metadata": {},
     "output_type": "execute_result"
    }
   ],
   "source": [
    "cllr = LogisticRegression()\n",
    "cllr.fit(X_train3, Y_train3)\n",
    "cllr.score(X_train3, Y_train3)"
   ]
  },
  {
   "cell_type": "code",
   "execution_count": 57,
   "metadata": {},
   "outputs": [],
   "source": [
    "prediction_lr = cllr.predict(X_test3)"
   ]
  },
  {
   "cell_type": "code",
   "execution_count": 58,
   "metadata": {},
   "outputs": [
    {
     "name": "stdout",
     "output_type": "stream",
     "text": [
      "              precision    recall  f1-score   support\n",
      "\n",
      "           0       0.95      0.98      0.96     85137\n",
      "           1       0.98      0.95      0.96     85452\n",
      "\n",
      "    accuracy                           0.96    170589\n",
      "   macro avg       0.96      0.96      0.96    170589\n",
      "weighted avg       0.96      0.96      0.96    170589\n",
      "\n"
     ]
    },
    {
     "data": {
      "image/png": "[encoded data removed]",
      "text/plain": [
       "<Figure size 432x288 with 2 Axes>"
      ]
     },
     "metadata": {
      "needs_background": "light"
     },
     "output_type": "display_data"
    }
   ],
   "source": [
    "cm = confusion_matrix(Y_test1, prediction_lr)\n",
    "plot_confusion_matrix(cm,class_names)\n",
    "print(classification_report(Y_test3,prediction_lr))"
   ]
  },
  {
   "cell_type": "code",
   "execution_count": 59,
   "metadata": {},
   "outputs": [
    {
     "name": "stderr",
     "output_type": "stream",
     "text": [
      "c:\\users\\tnall\\analytictask\\venv\\lib\\site-packages\\sklearn\\linear_model\\_logistic.py:764: ConvergenceWarning:\n",
      "\n",
      "lbfgs failed to converge (status=1):\n",
      "STOP: TOTAL NO. of ITERATIONS REACHED LIMIT.\n",
      "\n",
      "Increase the number of iterations (max_iter) or scale the data as shown in:\n",
      "    https://scikit-learn.org/stable/modules/preprocessing.html\n",
      "Please also refer to the documentation for alternative solver options:\n",
      "    https://scikit-learn.org/stable/modules/linear_model.html#logistic-regression\n",
      "\n"
     ]
    },
    {
     "data": {
      "text/plain": [
       "0.9646418333789735"
      ]
     },
     "execution_count": 59,
     "metadata": {},
     "output_type": "execute_result"
    }
   ],
   "source": [
    "cllr = LogisticRegression()\n",
    "cllr.fit(X_train4, Y_train4)\n",
    "cllr.score(X_train4, Y_train4)"
   ]
  },
  {
   "cell_type": "code",
   "execution_count": 60,
   "metadata": {},
   "outputs": [],
   "source": [
    "prediction_lr = cllr.predict(X_test4)"
   ]
  },
  {
   "cell_type": "code",
   "execution_count": 61,
   "metadata": {},
   "outputs": [
    {
     "name": "stdout",
     "output_type": "stream",
     "text": [
      "              precision    recall  f1-score   support\n",
      "\n",
      "           0       0.95      0.98      0.96     85137\n",
      "           1       0.98      0.95      0.96     85452\n",
      "\n",
      "    accuracy                           0.96    170589\n",
      "   macro avg       0.96      0.96      0.96    170589\n",
      "weighted avg       0.96      0.96      0.96    170589\n",
      "\n"
     ]
    },
    {
     "data": {
      "image/png": "[encoded data removed]",
      "text/plain": [
       "<Figure size 432x288 with 2 Axes>"
      ]
     },
     "metadata": {
      "needs_background": "light"
     },
     "output_type": "display_data"
    }
   ],
   "source": [
    "cm = confusion_matrix(Y_test4, prediction_lr)\n",
    "plot_confusion_matrix(cm,class_names)\n",
    "print(classification_report(Y_test4,prediction_lr))"
   ]
  },
  {
   "cell_type": "markdown",
   "metadata": {},
   "source": [
    "# Random forest"
   ]
  },
  {
   "cell_type": "code",
   "execution_count": 62,
   "metadata": {},
   "outputs": [
    {
     "data": {
      "text/plain": [
       "0.9693071819234702"
      ]
     },
     "execution_count": 62,
     "metadata": {},
     "output_type": "execute_result"
    }
   ],
   "source": [
    "clrf = RandomForestClassifier(max_depth=5,\n",
    "           n_estimators=300)\n",
    "clrf.fit(X_train1, Y_train1)\n",
    "clrf.score(X_train1, Y_train1)"
   ]
  },
  {
   "cell_type": "code",
   "execution_count": 63,
   "metadata": {},
   "outputs": [],
   "source": [
    "prediction_rf = clrf.predict(X_test1)"
   ]
  },
  {
   "cell_type": "code",
   "execution_count": 64,
   "metadata": {},
   "outputs": [
    {
     "name": "stdout",
     "output_type": "stream",
     "text": [
      "              precision    recall  f1-score   support\n",
      "\n",
      "           0       0.95      0.99      0.97     85137\n",
      "           1       0.99      0.95      0.97     85452\n",
      "\n",
      "    accuracy                           0.97    170589\n",
      "   macro avg       0.97      0.97      0.97    170589\n",
      "weighted avg       0.97      0.97      0.97    170589\n",
      "\n"
     ]
    },
    {
     "data": {
      "image/png": "[encoded data removed]",
      "text/plain": [
       "<Figure size 432x288 with 2 Axes>"
      ]
     },
     "metadata": {
      "needs_background": "light"
     },
     "output_type": "display_data"
    }
   ],
   "source": [
    "cm = confusion_matrix(Y_test1, prediction_rf)\n",
    "plot_confusion_matrix(cm,class_names)\n",
    "print(classification_report(Y_test1,prediction_rf))"
   ]
  },
  {
   "cell_type": "code",
   "execution_count": 65,
   "metadata": {},
   "outputs": [
    {
     "data": {
      "text/plain": [
       "0.9675334952931984"
      ]
     },
     "execution_count": 65,
     "metadata": {},
     "output_type": "execute_result"
    }
   ],
   "source": [
    "clrf = RandomForestClassifier(max_depth=5,\n",
    "           n_estimators=300)\n",
    "clrf.fit(X_train2, Y_train2)\n",
    "clrf.score(X_train2, Y_train2)"
   ]
  },
  {
   "cell_type": "code",
   "execution_count": 66,
   "metadata": {},
   "outputs": [],
   "source": [
    "prediction_rf = clrf.predict(X_test2)"
   ]
  },
  {
   "cell_type": "code",
   "execution_count": 67,
   "metadata": {},
   "outputs": [
    {
     "name": "stdout",
     "output_type": "stream",
     "text": [
      "              precision    recall  f1-score   support\n",
      "\n",
      "           0       0.95      0.99      0.97     85137\n",
      "           1       0.99      0.95      0.97     85452\n",
      "\n",
      "    accuracy                           0.97    170589\n",
      "   macro avg       0.97      0.97      0.97    170589\n",
      "weighted avg       0.97      0.97      0.97    170589\n",
      "\n"
     ]
    },
    {
     "data": {
      "image/png": "[encoded data removed]",
      "text/plain": [
       "<Figure size 432x288 with 2 Axes>"
      ]
     },
     "metadata": {
      "needs_background": "light"
     },
     "output_type": "display_data"
    }
   ],
   "source": [
    "cm = confusion_matrix(Y_test2, prediction_rf)\n",
    "plot_confusion_matrix(cm,class_names)\n",
    "print(classification_report(Y_test2,prediction_rf))"
   ]
  },
  {
   "cell_type": "code",
   "execution_count": 68,
   "metadata": {},
   "outputs": [
    {
     "data": {
      "text/plain": [
       "0.9668325624747199"
      ]
     },
     "execution_count": 68,
     "metadata": {},
     "output_type": "execute_result"
    }
   ],
   "source": [
    "clrf = RandomForestClassifier(max_depth=5,\n",
    "           n_estimators=300)\n",
    "clrf.fit(X_train3, Y_train3)\n",
    "clrf.score(X_train3, Y_train3)"
   ]
  },
  {
   "cell_type": "code",
   "execution_count": 69,
   "metadata": {},
   "outputs": [],
   "source": [
    "prediction_rf = clrf.predict(X_test3)"
   ]
  },
  {
   "cell_type": "code",
   "execution_count": 70,
   "metadata": {},
   "outputs": [
    {
     "name": "stdout",
     "output_type": "stream",
     "text": [
      "              precision    recall  f1-score   support\n",
      "\n",
      "           0       0.95      0.98      0.97     85137\n",
      "           1       0.98      0.95      0.97     85452\n",
      "\n",
      "    accuracy                           0.97    170589\n",
      "   macro avg       0.97      0.97      0.97    170589\n",
      "weighted avg       0.97      0.97      0.97    170589\n",
      "\n"
     ]
    },
    {
     "data": {
      "image/png": "[encoded data removed]",
      "text/plain": [
       "<Figure size 432x288 with 2 Axes>"
      ]
     },
     "metadata": {
      "needs_background": "light"
     },
     "output_type": "display_data"
    }
   ],
   "source": [
    "cm = confusion_matrix(Y_test3, prediction_rf)\n",
    "plot_confusion_matrix(cm,class_names)\n",
    "print(classification_report(Y_test3,prediction_rf))"
   ]
  },
  {
   "cell_type": "code",
   "execution_count": 71,
   "metadata": {},
   "outputs": [
    {
     "data": {
      "text/plain": [
       "0.9684881708165741"
      ]
     },
     "execution_count": 71,
     "metadata": {},
     "output_type": "execute_result"
    }
   ],
   "source": [
    "clrf = RandomForestClassifier(max_depth=5,\n",
    "           n_estimators=300)\n",
    "clrf.fit(X_train4, Y_train4)\n",
    "clrf.score(X_train4, Y_train4)"
   ]
  },
  {
   "cell_type": "code",
   "execution_count": 72,
   "metadata": {},
   "outputs": [],
   "source": [
    "prediction_rf = clrf.predict(X_test4)"
   ]
  },
  {
   "cell_type": "code",
   "execution_count": 73,
   "metadata": {},
   "outputs": [
    {
     "name": "stdout",
     "output_type": "stream",
     "text": [
      "              precision    recall  f1-score   support\n",
      "\n",
      "           0       0.95      0.99      0.97     85137\n",
      "           1       0.99      0.95      0.97     85452\n",
      "\n",
      "    accuracy                           0.97    170589\n",
      "   macro avg       0.97      0.97      0.97    170589\n",
      "weighted avg       0.97      0.97      0.97    170589\n",
      "\n"
     ]
    },
    {
     "data": {
      "image/png": "[encoded data removed]",
      "text/plain": [
       "<Figure size 432x288 with 2 Axes>"
      ]
     },
     "metadata": {
      "needs_background": "light"
     },
     "output_type": "display_data"
    }
   ],
   "source": [
    "cm = confusion_matrix(Y_test4, prediction_rf)\n",
    "plot_confusion_matrix(cm,class_names)\n",
    "print(classification_report(Y_test4,prediction_rf))"
   ]
  },
  {
   "cell_type": "markdown",
   "metadata": {},
   "source": [
    "#The process begain with data analysis and skewness is checked. Methods Log and SQRT are applied on the data set to eliminate the skewness in data but the results have NAN values hence Normalization methods standardscaler and Minmaxscaler are choosed. SMOTE method is used for data balancing.\n",
    "\n",
    "#After data normalization feature selection is performed using Lassocv and Ridge and train,test sets are splited.\n",
    "#SVM, Random forest and Logesticregression methods are used to develope the model with metrics like confusion matrix,F1score,Accuracy and precision\n",
    "\n",
    "#These methods are implemented for all the splited data sets. The result is SVM classifier using Lassocv and Ridge feature with standardscaler methods has same F1score of 0.98 but the number of frauds detected is high when Lassocv is used for feature extraction. \n",
    "\n",
    "# Hence the best pipe line for balanced data with SMOTE is Feature extraction, Data balancing with SMOTE, Data normalization with StandardScalar, Feature selection using Ridge and SVM classifier\n",
    "\n",
    "\n",
    "# Overal the best pipeline for this data set is\n",
    "\n",
    "Data loading, explanatory data analysis, feature extraction, Data balancing using SMOTE, Data normalization using Standardscaler, Feature selection with Ridge method and SVM classifier\n",
    "\n",
    "Using skewness elimination methods like Log & SQRT is not suitable for this data set because the results contains so many NAN values."
   ]
  }
 ],
 "metadata": {
  "kernelspec": {
   "display_name": "Python 3",
   "language": "python",
   "name": "python3"
  },
  "language_info": {
   "codemirror_mode": {
    "name": "ipython",
    "version": 3
   },
   "file_extension": ".py",
   "mimetype": "text/x-python",
   "name": "python",
   "nbconvert_exporter": "python",
   "pygments_lexer": "ipython3",
   "version": "3.7.8"
  }
 },
 "nbformat": 4,
 "nbformat_minor": 4
}
